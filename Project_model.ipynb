{
  "cells": [
    {
      "cell_type": "markdown",
      "source": [
        "# Big Data Project"
      ],
      "metadata": {
        "id": "74Lwf2R9K_ZA"
      }
    },
    {
      "cell_type": "markdown",
      "source": [
        "## Collecting the data"
      ],
      "metadata": {
        "id": "9qJLcsPMLDzp"
      }
    },
    {
      "cell_type": "code",
      "source": [
        "! pip install -q kaggle"
      ],
      "metadata": {
        "id": "CUxqXq_hECG4"
      },
      "execution_count": null,
      "outputs": []
    },
    {
      "cell_type": "code",
      "source": [
        "from google.colab import files\n",
        "files.upload()"
      ],
      "metadata": {
        "id": "67KF5uyQEB7u",
        "colab": {
          "resources": {
            "http://localhost:8080/nbextensions/google.colab/files.js": {
              "data": "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",
              "ok": true,
              "headers": [
                [
                  "content-type",
                  "application/javascript"
                ]
              ],
              "status": 200,
              "status_text": ""
            }
          },
          "base_uri": "https://localhost:8080/",
          "height": 93
        },
        "outputId": "aef3853c-3e7c-441d-ca50-265cdfc3572a"
      },
      "execution_count": null,
      "outputs": [
        {
          "output_type": "display_data",
          "data": {
            "text/plain": [
              "<IPython.core.display.HTML object>"
            ],
            "text/html": [
              "\n",
              "     <input type=\"file\" id=\"files-d35c6077-d354-4065-84b6-a326b985f1fc\" name=\"files[]\" multiple disabled\n",
              "        style=\"border:none\" />\n",
              "     <output id=\"result-d35c6077-d354-4065-84b6-a326b985f1fc\">\n",
              "      Upload widget is only available when the cell has been executed in the\n",
              "      current browser session. Please rerun this cell to enable.\n",
              "      </output>\n",
              "      <script src=\"/nbextensions/google.colab/files.js\"></script> "
            ]
          },
          "metadata": {}
        },
        {
          "output_type": "stream",
          "name": "stdout",
          "text": [
            "Saving kaggle.json to kaggle (1).json\n"
          ]
        },
        {
          "output_type": "execute_result",
          "data": {
            "text/plain": [
              "{'kaggle.json': b'{\"username\":\"adityagavankar\",\"key\":\"a88b99f26263bb4a9d14c8a37a21cbdb\"}'}"
            ]
          },
          "metadata": {},
          "execution_count": 2
        }
      ]
    },
    {
      "cell_type": "code",
      "source": [
        "! mkdir ~/.kaggle\n",
        "! cp kaggle.json ~/.kaggle/\n",
        "! chmod 600 ~/.kaggle/kaggle.json"
      ],
      "metadata": {
        "id": "xjMuoPF_EL3L",
        "colab": {
          "base_uri": "https://localhost:8080/"
        },
        "outputId": "6be5d1c6-bbaa-4968-af30-b4111541123f"
      },
      "execution_count": null,
      "outputs": [
        {
          "output_type": "stream",
          "name": "stdout",
          "text": [
            "mkdir: cannot create directory ‘/root/.kaggle’: File exists\n"
          ]
        }
      ]
    },
    {
      "cell_type": "code",
      "source": [
        "! kaggle datasets download -d hotsonhonet/amex-competition"
      ],
      "metadata": {
        "id": "MiaTjnFsEUg_",
        "colab": {
          "base_uri": "https://localhost:8080/"
        },
        "outputId": "c7c49523-e58c-413e-d116-fa9e5d783515"
      },
      "execution_count": null,
      "outputs": [
        {
          "output_type": "stream",
          "name": "stdout",
          "text": [
            "amex-competition.zip: Skipping, found more recently modified local copy (use --force to force download)\n"
          ]
        }
      ]
    },
    {
      "cell_type": "code",
      "source": [
        "! unzip -qq \"/content/amex-competition.zip\""
      ],
      "metadata": {
        "id": "xB3oOkpdF-CN",
        "colab": {
          "base_uri": "https://localhost:8080/"
        },
        "outputId": "e184e3da-1762-4204-8831-021e9510738a"
      },
      "execution_count": null,
      "outputs": [
        {
          "output_type": "stream",
          "name": "stdout",
          "text": [
            "replace dataset/sample_submission.csv? [y]es, [n]o, [A]ll, [N]one, [r]ename: n\n",
            "replace dataset/test.csv? [y]es, [n]o, [A]ll, [N]one, [r]ename: "
          ]
        }
      ]
    },
    {
      "cell_type": "code",
      "execution_count": null,
      "metadata": {
        "colab": {
          "base_uri": "https://localhost:8080/"
        },
        "id": "WltzqiFXxfgu",
        "outputId": "94e5c1f9-d781-4d04-8c4d-d03b677086ad"
      },
      "outputs": [
        {
          "output_type": "stream",
          "name": "stdout",
          "text": [
            "Collecting pyspark\n",
            "  Downloading pyspark-3.2.1.tar.gz (281.4 MB)\n",
            "\u001b[K     |████████████████████████████████| 281.4 MB 37 kB/s \n",
            "\u001b[?25hCollecting py4j==0.10.9.3\n",
            "  Downloading py4j-0.10.9.3-py2.py3-none-any.whl (198 kB)\n",
            "\u001b[K     |████████████████████████████████| 198 kB 50.3 MB/s \n",
            "\u001b[?25hBuilding wheels for collected packages: pyspark\n",
            "  Building wheel for pyspark (setup.py) ... \u001b[?25l\u001b[?25hdone\n",
            "  Created wheel for pyspark: filename=pyspark-3.2.1-py2.py3-none-any.whl size=281853642 sha256=3e92d57b71a1e4f22fced1ab4d2d8e4bead6e1bb07a52854e0a6d97b0c30e03a\n",
            "  Stored in directory: /root/.cache/pip/wheels/9f/f5/07/7cd8017084dce4e93e84e92efd1e1d5334db05f2e83bcef74f\n",
            "Successfully built pyspark\n",
            "Installing collected packages: py4j, pyspark\n",
            "Successfully installed py4j-0.10.9.3 pyspark-3.2.1\n"
          ]
        }
      ],
      "source": [
        "!pip install pyspark"
      ]
    },
    {
      "cell_type": "code",
      "execution_count": null,
      "metadata": {
        "id": "aVlQH5_uxVgn"
      },
      "outputs": [],
      "source": [
        "from pyspark.sql import SparkSession\n",
        "import random\n",
        "import numpy as np\n",
        "from functools import reduce\n",
        "import pyspark.sql.functions as F\n",
        "from pyspark.sql import Row\n",
        "from pyspark.sql.functions import rand,col,when,concat,substring,lit,udf,lower,sum as ps_sum,count as ps_count,row_number\n",
        "from pyspark.sql.window import *\n",
        "from pyspark.sql import DataFrame\n",
        "from pyspark.ml.feature import VectorAssembler,BucketedRandomProjectionLSH,VectorSlicer\n",
        "from pyspark.sql.window import Window\n",
        "from pyspark.ml.linalg import Vectors,VectorUDT\n",
        "from pyspark.sql.functions import array, create_map, struct"
      ]
    },
    {
      "cell_type": "code",
      "execution_count": null,
      "metadata": {
        "id": "BYWc-Y-2qw1F"
      },
      "outputs": [],
      "source": [
        "spark = SparkSession.builder.appName('Dataframe').getOrCreate()\n",
        "df = spark.read.csv('/content/dataset/train.csv', header = True, inferSchema = True)"
      ]
    },
    {
      "cell_type": "markdown",
      "source": [
        "## Data exploration / cleaning"
      ],
      "metadata": {
        "id": "fNB1Cbx1LIxT"
      }
    },
    {
      "cell_type": "code",
      "execution_count": null,
      "metadata": {
        "colab": {
          "base_uri": "https://localhost:8080/"
        },
        "id": "_wmP9yBQxyF2",
        "outputId": "c4d1b258-5338-4bcd-fb0f-c4d7b9a63434"
      },
      "outputs": [
        {
          "output_type": "stream",
          "name": "stdout",
          "text": [
            "root\n",
            " |-- customer_id: string (nullable = true)\n",
            " |-- name: string (nullable = true)\n",
            " |-- age: integer (nullable = true)\n",
            " |-- gender: string (nullable = true)\n",
            " |-- owns_car: string (nullable = true)\n",
            " |-- owns_house: string (nullable = true)\n",
            " |-- no_of_children: double (nullable = true)\n",
            " |-- net_yearly_income: double (nullable = true)\n",
            " |-- no_of_days_employed: double (nullable = true)\n",
            " |-- occupation_type: string (nullable = true)\n",
            " |-- total_family_members: double (nullable = true)\n",
            " |-- migrant_worker: double (nullable = true)\n",
            " |-- yearly_debt_payments: double (nullable = true)\n",
            " |-- credit_limit: double (nullable = true)\n",
            " |-- credit_limit_used(%): integer (nullable = true)\n",
            " |-- credit_score: double (nullable = true)\n",
            " |-- prev_defaults: integer (nullable = true)\n",
            " |-- default_in_last_6months: integer (nullable = true)\n",
            " |-- credit_card_default: integer (nullable = true)\n",
            "\n"
          ]
        }
      ],
      "source": [
        "df.printSchema()"
      ]
    },
    {
      "cell_type": "code",
      "execution_count": null,
      "metadata": {
        "colab": {
          "base_uri": "https://localhost:8080/"
        },
        "id": "-KdiVArCzf17",
        "outputId": "e2e8ee6b-db16-4cab-bb17-c0c12caf07a2"
      },
      "outputs": [
        {
          "output_type": "execute_result",
          "data": {
            "text/plain": [
              "[('customer_id', 'string'),\n",
              " ('name', 'string'),\n",
              " ('age', 'int'),\n",
              " ('gender', 'string'),\n",
              " ('owns_car', 'string'),\n",
              " ('owns_house', 'string'),\n",
              " ('no_of_children', 'double'),\n",
              " ('net_yearly_income', 'double'),\n",
              " ('no_of_days_employed', 'double'),\n",
              " ('occupation_type', 'string'),\n",
              " ('total_family_members', 'double'),\n",
              " ('migrant_worker', 'double'),\n",
              " ('yearly_debt_payments', 'double'),\n",
              " ('credit_limit', 'double'),\n",
              " ('credit_limit_used(%)', 'int'),\n",
              " ('credit_score', 'double'),\n",
              " ('prev_defaults', 'int'),\n",
              " ('default_in_last_6months', 'int'),\n",
              " ('credit_card_default', 'int')]"
            ]
          },
          "metadata": {},
          "execution_count": 120
        }
      ],
      "source": [
        "df.dtypes"
      ]
    },
    {
      "cell_type": "code",
      "execution_count": null,
      "metadata": {
        "colab": {
          "base_uri": "https://localhost:8080/"
        },
        "id": "G4aFzYZQfCCf",
        "outputId": "e7d85661-3d38-42e3-c228-b9ed9eae1ff7"
      },
      "outputs": [
        {
          "output_type": "stream",
          "name": "stdout",
          "text": [
            "+-------+-----------+------+----------------+------+--------+----------+------------------+------------------+-------------------+--------------------+--------------------+-------------------+--------------------+------------------+--------------------+------------------+--------------------+-----------------------+-------------------+\n",
            "|summary|customer_id|  name|             age|gender|owns_car|owns_house|    no_of_children| net_yearly_income|no_of_days_employed|     occupation_type|total_family_members|     migrant_worker|yearly_debt_payments|      credit_limit|credit_limit_used(%)|      credit_score|       prev_defaults|default_in_last_6months|credit_card_default|\n",
            "+-------+-----------+------+----------------+------+--------+----------+------------------+------------------+-------------------+--------------------+--------------------+-------------------+--------------------+------------------+--------------------+------------------+--------------------+-----------------------+-------------------+\n",
            "|  count|      45528| 45528|           45528| 45528|   44981|     45528|             44754|             45528|              45065|               45528|               45445|              45441|               45433|             45528|               45528|             45520|               45528|                  45528|              45528|\n",
            "|   mean|       null|  null|38.9934106483922|  null|    null|      null| 0.420655136970997|200655.62224916313|   67609.2892932431|                null|  2.1580811970513807|0.17911137518980655|   31796.96531111765| 43548.41602793867|   52.23502020734493| 782.7912565905096|0.060709892813213845|   0.050540326831839746|0.08120277631347741|\n",
            "| stddev|       null|  null|9.54399028896015|  null|    null|      null|0.7240971792123103| 669074.0346069849| 139323.52443415477|                null|  0.9115724692538142|0.38344977007900294|   17269.72723427262|148784.68687788266|  29.376909601789205|100.61974575060152|  0.2646294145534491|    0.21905948098067737| 0.2731492709412185|\n",
            "|    min| CST_100002|  Axel|              23|     F|       N|         N|               0.0|          27170.61|                2.0|         Accountants|                 1.0|                0.0|             2237.47|           4003.14|                   0|             500.0|                   0|                      0|                  0|\n",
            "|    max| CST_165962|y Fabi|              55|   XNA|       Y|         Y|               9.0|    1.4075901273E8|           365252.0|Waiters/barmen staff|                10.0|                1.0|           328112.86|     3.112997049E7|                  99|             949.0|                   2|                      1|                  1|\n",
            "+-------+-----------+------+----------------+------+--------+----------+------------------+------------------+-------------------+--------------------+--------------------+-------------------+--------------------+------------------+--------------------+------------------+--------------------+-----------------------+-------------------+\n",
            "\n"
          ]
        }
      ],
      "source": [
        "df.describe().show()"
      ]
    },
    {
      "cell_type": "code",
      "execution_count": null,
      "metadata": {
        "colab": {
          "base_uri": "https://localhost:8080/"
        },
        "id": "6eRuGNOc0rHb",
        "outputId": "9c599135-dbc5-4994-afe7-be74b2ffa5c0"
      },
      "outputs": [
        {
          "output_type": "stream",
          "name": "stdout",
          "text": [
            "+---+------+--------+----------+--------------+-----------------+-------------------+--------------------+--------------------+--------------+--------------------+------------+--------------------+------------+-------------+-----------------------+-------------------+\n",
            "|age|gender|owns_car|owns_house|no_of_children|net_yearly_income|no_of_days_employed|     occupation_type|total_family_members|migrant_worker|yearly_debt_payments|credit_limit|credit_limit_used(%)|credit_score|prev_defaults|default_in_last_6months|credit_card_default|\n",
            "+---+------+--------+----------+--------------+-----------------+-------------------+--------------------+--------------------+--------------+--------------------+------------+--------------------+------------+-------------+-----------------------+-------------------+\n",
            "| 46|     F|       N|         Y|           0.0|        107934.04|              612.0|             Unknown|                 1.0|           1.0|            33070.28|    18690.93|                  73|       544.0|            2|                      1|                  1|\n",
            "| 29|     M|       N|         Y|           0.0|        109862.62|             2771.0|            Laborers|                 2.0|           0.0|            15329.53|    37745.19|                  52|       857.0|            0|                      0|                  0|\n",
            "| 37|     M|       N|         Y|           0.0|        230153.17|              204.0|            Laborers|                 2.0|           0.0|             48416.6|    41598.36|                  43|       650.0|            0|                      0|                  0|\n",
            "| 39|     F|       N|         Y|           0.0|        122325.82|            11941.0|          Core staff|                 2.0|           0.0|            22574.36|    32627.76|                  20|       754.0|            0|                      0|                  0|\n",
            "| 46|     M|       Y|         Y|           0.0|         387286.0|             1459.0|          Core staff|                 1.0|           0.0|            38282.95|    52950.64|                  75|       927.0|            0|                      0|                  0|\n",
            "| 46|     F|       Y|         N|           0.0|        252765.91|             2898.0|         Accountants|                 2.0|           1.0|            37046.86|    40245.64|                  19|       937.0|            0|                      0|                  0|\n",
            "| 38|     M|       N|         Y|           1.0|         262389.2|             5541.0|High skill tech s...|                 3.0|           0.0|            50839.39|    41311.08|                  42|       733.0|            0|                      0|                  0|\n",
            "| 46|     F|       Y|         Y|           1.0|        241211.39|             1448.0|          Core staff|                 3.0|           0.0|            30008.46|    32209.22|                  91|       906.0|            0|                      0|                  0|\n",
            "| 40|     F|    null|         Y|           0.0|        210091.43|            11551.0|            Laborers|                 2.0|           0.0|            21521.89|    65037.74|                  14|       783.0|            0|                      0|                  0|\n",
            "| 39|     F|       Y|         Y|           2.0|        207109.13|             2791.0|High skill tech s...|                 4.0|           0.0|              9509.1|    28425.52|                  14|       666.0|            0|                      0|                  0|\n",
            "| 32|     F|       N|         Y|           0.0|         79102.33|             2252.0|             Unknown|                 2.0|           1.0|             8074.63|    13615.21|                  58|       781.0|            0|                      0|                  0|\n",
            "| 52|     M|       Y|         N|           1.0|        158933.98|              817.0|         Sales staff|                 3.0|           0.0|            19942.29|    39126.06|                  41|       889.0|            0|                      0|                  0|\n",
            "| 39|     F|       N|         Y|           0.0|          68421.1|           365247.0|             Unknown|                 2.0|           0.0|            13781.53|    17110.01|                  72|       643.0|            1|                      1|                  1|\n",
            "| 52|     F|       Y|         N|           0.0|         125141.5|             2215.0|         Sales staff|                 2.0|           0.0|            65673.47|     38854.6|                  40|       909.0|            0|                      0|                  0|\n",
            "| 43|     M|       Y|         Y|           0.0|        368556.71|             5522.0|            Managers|                 2.0|           0.0|            74286.97|   122481.96|                  41|       874.0|            0|                      0|                  0|\n",
            "| 37|     F|       N|         N|           0.0|        746959.12|             2229.0|             Unknown|                 2.0|           0.0|            16834.71|   188438.82|                  63|       666.0|            0|                      0|                  0|\n",
            "| 24|     F|       N|         Y|           0.0|        145522.37|             8058.0|High skill tech s...|                 1.0|           0.0|            26365.91|    29476.68|                  77|       763.0|            0|                      0|                  0|\n",
            "| 41|     M|       N|         N|           2.0|        110975.59|             2384.0|            Laborers|                 4.0|           1.0|            16634.19|    24027.62|                  87|       582.0|            1|                      1|                  1|\n",
            "| 34|     F|       N|         Y|           0.0|        198608.52|             4627.0|          Core staff|                 2.0|           0.0|            61155.24|    31554.66|                  84|       699.0|            0|                      0|                  1|\n",
            "| 50|     F|       N|         N|           1.0|         86956.02|              192.0|          Core staff|                 3.0|           0.0|            34644.51|    14726.33|                  97|       753.0|            0|                      0|                  0|\n",
            "+---+------+--------+----------+--------------+-----------------+-------------------+--------------------+--------------------+--------------+--------------------+------------+--------------------+------------+-------------+-----------------------+-------------------+\n",
            "only showing top 20 rows\n",
            "\n"
          ]
        }
      ],
      "source": [
        "df=df.drop(\"name\")\n",
        "df=df.drop(\"customer_id\")\n",
        "df.show()"
      ]
    },
    {
      "cell_type": "code",
      "execution_count": null,
      "metadata": {
        "id": "8TQQVfFILR5i"
      },
      "outputs": [],
      "source": [
        "df=df.na.drop()"
      ]
    },
    {
      "cell_type": "code",
      "source": [
        "psdf=df.toPandas()\n",
        "psdf"
      ],
      "metadata": {
        "id": "A5AVs7Ryri6z",
        "colab": {
          "base_uri": "https://localhost:8080/",
          "height": 487
        },
        "outputId": "accfa692-44a0-4a3c-f606-825fda8094c1"
      },
      "execution_count": null,
      "outputs": [
        {
          "output_type": "execute_result",
          "data": {
            "text/plain": [
              "       age gender owns_car owns_house  no_of_children  net_yearly_income  \\\n",
              "0       46      F        N          Y             0.0          107934.04   \n",
              "1       29      M        N          Y             0.0          109862.62   \n",
              "2       37      M        N          Y             0.0          230153.17   \n",
              "3       39      F        N          Y             0.0          122325.82   \n",
              "4       46      M        Y          Y             0.0          387286.00   \n",
              "...    ...    ...      ...        ...             ...                ...   \n",
              "43504   55      F        N          N             2.0           96207.57   \n",
              "43505   31      F        N          Y             0.0          383476.74   \n",
              "43506   27      F        N          Y             0.0          260052.18   \n",
              "43507   32      M        Y          N             0.0          157363.04   \n",
              "43508   38      M        N          Y             1.0          316896.28   \n",
              "\n",
              "       no_of_days_employed occupation_type  total_family_members  \\\n",
              "0                    612.0         Unknown                   1.0   \n",
              "1                   2771.0        Laborers                   2.0   \n",
              "2                    204.0        Laborers                   2.0   \n",
              "3                  11941.0      Core staff                   2.0   \n",
              "4                   1459.0      Core staff                   1.0   \n",
              "...                    ...             ...                   ...   \n",
              "43504                117.0         Unknown                   4.0   \n",
              "43505                966.0     Accountants                   2.0   \n",
              "43506               1420.0      Core staff                   2.0   \n",
              "43507               2457.0        Laborers                   2.0   \n",
              "43508               1210.0         Unknown                   3.0   \n",
              "\n",
              "       migrant_worker  yearly_debt_payments  credit_limit  \\\n",
              "0                 1.0              33070.28      18690.93   \n",
              "1                 0.0              15329.53      37745.19   \n",
              "2                 0.0              48416.60      41598.36   \n",
              "3                 0.0              22574.36      32627.76   \n",
              "4                 0.0              38282.95      52950.64   \n",
              "...               ...                   ...           ...   \n",
              "43504             0.0              11229.54      29663.83   \n",
              "43505             1.0              43369.91     139947.16   \n",
              "43506             0.0              22707.51      83961.83   \n",
              "43507             0.0              20150.10      25538.72   \n",
              "43508             0.0              34603.78      36630.76   \n",
              "\n",
              "       credit_limit_used(%)  credit_score  prev_defaults  \\\n",
              "0                        73         544.0              2   \n",
              "1                        52         857.0              0   \n",
              "2                        43         650.0              0   \n",
              "3                        20         754.0              0   \n",
              "4                        75         927.0              0   \n",
              "...                     ...           ...            ...   \n",
              "43504                    82         907.0              0   \n",
              "43505                    32         679.0              0   \n",
              "43506                    46         727.0              0   \n",
              "43507                    92         805.0              0   \n",
              "43508                    26         682.0              0   \n",
              "\n",
              "       default_in_last_6months  credit_card_default  \n",
              "0                            1                    1  \n",
              "1                            0                    0  \n",
              "2                            0                    0  \n",
              "3                            0                    0  \n",
              "4                            0                    0  \n",
              "...                        ...                  ...  \n",
              "43504                        0                    0  \n",
              "43505                        0                    0  \n",
              "43506                        0                    0  \n",
              "43507                        0                    0  \n",
              "43508                        0                    0  \n",
              "\n",
              "[43509 rows x 17 columns]"
            ],
            "text/html": [
              "\n",
              "  <div id=\"df-5eefee09-2a09-44b3-af31-bb5090ec2bc7\">\n",
              "    <div class=\"colab-df-container\">\n",
              "      <div>\n",
              "<style scoped>\n",
              "    .dataframe tbody tr th:only-of-type {\n",
              "        vertical-align: middle;\n",
              "    }\n",
              "\n",
              "    .dataframe tbody tr th {\n",
              "        vertical-align: top;\n",
              "    }\n",
              "\n",
              "    .dataframe thead th {\n",
              "        text-align: right;\n",
              "    }\n",
              "</style>\n",
              "<table border=\"1\" class=\"dataframe\">\n",
              "  <thead>\n",
              "    <tr style=\"text-align: right;\">\n",
              "      <th></th>\n",
              "      <th>age</th>\n",
              "      <th>gender</th>\n",
              "      <th>owns_car</th>\n",
              "      <th>owns_house</th>\n",
              "      <th>no_of_children</th>\n",
              "      <th>net_yearly_income</th>\n",
              "      <th>no_of_days_employed</th>\n",
              "      <th>occupation_type</th>\n",
              "      <th>total_family_members</th>\n",
              "      <th>migrant_worker</th>\n",
              "      <th>yearly_debt_payments</th>\n",
              "      <th>credit_limit</th>\n",
              "      <th>credit_limit_used(%)</th>\n",
              "      <th>credit_score</th>\n",
              "      <th>prev_defaults</th>\n",
              "      <th>default_in_last_6months</th>\n",
              "      <th>credit_card_default</th>\n",
              "    </tr>\n",
              "  </thead>\n",
              "  <tbody>\n",
              "    <tr>\n",
              "      <th>0</th>\n",
              "      <td>46</td>\n",
              "      <td>F</td>\n",
              "      <td>N</td>\n",
              "      <td>Y</td>\n",
              "      <td>0.0</td>\n",
              "      <td>107934.04</td>\n",
              "      <td>612.0</td>\n",
              "      <td>Unknown</td>\n",
              "      <td>1.0</td>\n",
              "      <td>1.0</td>\n",
              "      <td>33070.28</td>\n",
              "      <td>18690.93</td>\n",
              "      <td>73</td>\n",
              "      <td>544.0</td>\n",
              "      <td>2</td>\n",
              "      <td>1</td>\n",
              "      <td>1</td>\n",
              "    </tr>\n",
              "    <tr>\n",
              "      <th>1</th>\n",
              "      <td>29</td>\n",
              "      <td>M</td>\n",
              "      <td>N</td>\n",
              "      <td>Y</td>\n",
              "      <td>0.0</td>\n",
              "      <td>109862.62</td>\n",
              "      <td>2771.0</td>\n",
              "      <td>Laborers</td>\n",
              "      <td>2.0</td>\n",
              "      <td>0.0</td>\n",
              "      <td>15329.53</td>\n",
              "      <td>37745.19</td>\n",
              "      <td>52</td>\n",
              "      <td>857.0</td>\n",
              "      <td>0</td>\n",
              "      <td>0</td>\n",
              "      <td>0</td>\n",
              "    </tr>\n",
              "    <tr>\n",
              "      <th>2</th>\n",
              "      <td>37</td>\n",
              "      <td>M</td>\n",
              "      <td>N</td>\n",
              "      <td>Y</td>\n",
              "      <td>0.0</td>\n",
              "      <td>230153.17</td>\n",
              "      <td>204.0</td>\n",
              "      <td>Laborers</td>\n",
              "      <td>2.0</td>\n",
              "      <td>0.0</td>\n",
              "      <td>48416.60</td>\n",
              "      <td>41598.36</td>\n",
              "      <td>43</td>\n",
              "      <td>650.0</td>\n",
              "      <td>0</td>\n",
              "      <td>0</td>\n",
              "      <td>0</td>\n",
              "    </tr>\n",
              "    <tr>\n",
              "      <th>3</th>\n",
              "      <td>39</td>\n",
              "      <td>F</td>\n",
              "      <td>N</td>\n",
              "      <td>Y</td>\n",
              "      <td>0.0</td>\n",
              "      <td>122325.82</td>\n",
              "      <td>11941.0</td>\n",
              "      <td>Core staff</td>\n",
              "      <td>2.0</td>\n",
              "      <td>0.0</td>\n",
              "      <td>22574.36</td>\n",
              "      <td>32627.76</td>\n",
              "      <td>20</td>\n",
              "      <td>754.0</td>\n",
              "      <td>0</td>\n",
              "      <td>0</td>\n",
              "      <td>0</td>\n",
              "    </tr>\n",
              "    <tr>\n",
              "      <th>4</th>\n",
              "      <td>46</td>\n",
              "      <td>M</td>\n",
              "      <td>Y</td>\n",
              "      <td>Y</td>\n",
              "      <td>0.0</td>\n",
              "      <td>387286.00</td>\n",
              "      <td>1459.0</td>\n",
              "      <td>Core staff</td>\n",
              "      <td>1.0</td>\n",
              "      <td>0.0</td>\n",
              "      <td>38282.95</td>\n",
              "      <td>52950.64</td>\n",
              "      <td>75</td>\n",
              "      <td>927.0</td>\n",
              "      <td>0</td>\n",
              "      <td>0</td>\n",
              "      <td>0</td>\n",
              "    </tr>\n",
              "    <tr>\n",
              "      <th>...</th>\n",
              "      <td>...</td>\n",
              "      <td>...</td>\n",
              "      <td>...</td>\n",
              "      <td>...</td>\n",
              "      <td>...</td>\n",
              "      <td>...</td>\n",
              "      <td>...</td>\n",
              "      <td>...</td>\n",
              "      <td>...</td>\n",
              "      <td>...</td>\n",
              "      <td>...</td>\n",
              "      <td>...</td>\n",
              "      <td>...</td>\n",
              "      <td>...</td>\n",
              "      <td>...</td>\n",
              "      <td>...</td>\n",
              "      <td>...</td>\n",
              "    </tr>\n",
              "    <tr>\n",
              "      <th>43504</th>\n",
              "      <td>55</td>\n",
              "      <td>F</td>\n",
              "      <td>N</td>\n",
              "      <td>N</td>\n",
              "      <td>2.0</td>\n",
              "      <td>96207.57</td>\n",
              "      <td>117.0</td>\n",
              "      <td>Unknown</td>\n",
              "      <td>4.0</td>\n",
              "      <td>0.0</td>\n",
              "      <td>11229.54</td>\n",
              "      <td>29663.83</td>\n",
              "      <td>82</td>\n",
              "      <td>907.0</td>\n",
              "      <td>0</td>\n",
              "      <td>0</td>\n",
              "      <td>0</td>\n",
              "    </tr>\n",
              "    <tr>\n",
              "      <th>43505</th>\n",
              "      <td>31</td>\n",
              "      <td>F</td>\n",
              "      <td>N</td>\n",
              "      <td>Y</td>\n",
              "      <td>0.0</td>\n",
              "      <td>383476.74</td>\n",
              "      <td>966.0</td>\n",
              "      <td>Accountants</td>\n",
              "      <td>2.0</td>\n",
              "      <td>1.0</td>\n",
              "      <td>43369.91</td>\n",
              "      <td>139947.16</td>\n",
              "      <td>32</td>\n",
              "      <td>679.0</td>\n",
              "      <td>0</td>\n",
              "      <td>0</td>\n",
              "      <td>0</td>\n",
              "    </tr>\n",
              "    <tr>\n",
              "      <th>43506</th>\n",
              "      <td>27</td>\n",
              "      <td>F</td>\n",
              "      <td>N</td>\n",
              "      <td>Y</td>\n",
              "      <td>0.0</td>\n",
              "      <td>260052.18</td>\n",
              "      <td>1420.0</td>\n",
              "      <td>Core staff</td>\n",
              "      <td>2.0</td>\n",
              "      <td>0.0</td>\n",
              "      <td>22707.51</td>\n",
              "      <td>83961.83</td>\n",
              "      <td>46</td>\n",
              "      <td>727.0</td>\n",
              "      <td>0</td>\n",
              "      <td>0</td>\n",
              "      <td>0</td>\n",
              "    </tr>\n",
              "    <tr>\n",
              "      <th>43507</th>\n",
              "      <td>32</td>\n",
              "      <td>M</td>\n",
              "      <td>Y</td>\n",
              "      <td>N</td>\n",
              "      <td>0.0</td>\n",
              "      <td>157363.04</td>\n",
              "      <td>2457.0</td>\n",
              "      <td>Laborers</td>\n",
              "      <td>2.0</td>\n",
              "      <td>0.0</td>\n",
              "      <td>20150.10</td>\n",
              "      <td>25538.72</td>\n",
              "      <td>92</td>\n",
              "      <td>805.0</td>\n",
              "      <td>0</td>\n",
              "      <td>0</td>\n",
              "      <td>0</td>\n",
              "    </tr>\n",
              "    <tr>\n",
              "      <th>43508</th>\n",
              "      <td>38</td>\n",
              "      <td>M</td>\n",
              "      <td>N</td>\n",
              "      <td>Y</td>\n",
              "      <td>1.0</td>\n",
              "      <td>316896.28</td>\n",
              "      <td>1210.0</td>\n",
              "      <td>Unknown</td>\n",
              "      <td>3.0</td>\n",
              "      <td>0.0</td>\n",
              "      <td>34603.78</td>\n",
              "      <td>36630.76</td>\n",
              "      <td>26</td>\n",
              "      <td>682.0</td>\n",
              "      <td>0</td>\n",
              "      <td>0</td>\n",
              "      <td>0</td>\n",
              "    </tr>\n",
              "  </tbody>\n",
              "</table>\n",
              "<p>43509 rows × 17 columns</p>\n",
              "</div>\n",
              "      <button class=\"colab-df-convert\" onclick=\"convertToInteractive('df-5eefee09-2a09-44b3-af31-bb5090ec2bc7')\"\n",
              "              title=\"Convert this dataframe to an interactive table.\"\n",
              "              style=\"display:none;\">\n",
              "        \n",
              "  <svg xmlns=\"http://www.w3.org/2000/svg\" height=\"24px\"viewBox=\"0 0 24 24\"\n",
              "       width=\"24px\">\n",
              "    <path d=\"M0 0h24v24H0V0z\" fill=\"none\"/>\n",
              "    <path d=\"M18.56 5.44l.94 2.06.94-2.06 2.06-.94-2.06-.94-.94-2.06-.94 2.06-2.06.94zm-11 1L8.5 8.5l.94-2.06 2.06-.94-2.06-.94L8.5 2.5l-.94 2.06-2.06.94zm10 10l.94 2.06.94-2.06 2.06-.94-2.06-.94-.94-2.06-.94 2.06-2.06.94z\"/><path d=\"M17.41 7.96l-1.37-1.37c-.4-.4-.92-.59-1.43-.59-.52 0-1.04.2-1.43.59L10.3 9.45l-7.72 7.72c-.78.78-.78 2.05 0 2.83L4 21.41c.39.39.9.59 1.41.59.51 0 1.02-.2 1.41-.59l7.78-7.78 2.81-2.81c.8-.78.8-2.07 0-2.86zM5.41 20L4 18.59l7.72-7.72 1.47 1.35L5.41 20z\"/>\n",
              "  </svg>\n",
              "      </button>\n",
              "      \n",
              "  <style>\n",
              "    .colab-df-container {\n",
              "      display:flex;\n",
              "      flex-wrap:wrap;\n",
              "      gap: 12px;\n",
              "    }\n",
              "\n",
              "    .colab-df-convert {\n",
              "      background-color: #E8F0FE;\n",
              "      border: none;\n",
              "      border-radius: 50%;\n",
              "      cursor: pointer;\n",
              "      display: none;\n",
              "      fill: #1967D2;\n",
              "      height: 32px;\n",
              "      padding: 0 0 0 0;\n",
              "      width: 32px;\n",
              "    }\n",
              "\n",
              "    .colab-df-convert:hover {\n",
              "      background-color: #E2EBFA;\n",
              "      box-shadow: 0px 1px 2px rgba(60, 64, 67, 0.3), 0px 1px 3px 1px rgba(60, 64, 67, 0.15);\n",
              "      fill: #174EA6;\n",
              "    }\n",
              "\n",
              "    [theme=dark] .colab-df-convert {\n",
              "      background-color: #3B4455;\n",
              "      fill: #D2E3FC;\n",
              "    }\n",
              "\n",
              "    [theme=dark] .colab-df-convert:hover {\n",
              "      background-color: #434B5C;\n",
              "      box-shadow: 0px 1px 3px 1px rgba(0, 0, 0, 0.15);\n",
              "      filter: drop-shadow(0px 1px 2px rgba(0, 0, 0, 0.3));\n",
              "      fill: #FFFFFF;\n",
              "    }\n",
              "  </style>\n",
              "\n",
              "      <script>\n",
              "        const buttonEl =\n",
              "          document.querySelector('#df-5eefee09-2a09-44b3-af31-bb5090ec2bc7 button.colab-df-convert');\n",
              "        buttonEl.style.display =\n",
              "          google.colab.kernel.accessAllowed ? 'block' : 'none';\n",
              "\n",
              "        async function convertToInteractive(key) {\n",
              "          const element = document.querySelector('#df-5eefee09-2a09-44b3-af31-bb5090ec2bc7');\n",
              "          const dataTable =\n",
              "            await google.colab.kernel.invokeFunction('convertToInteractive',\n",
              "                                                     [key], {});\n",
              "          if (!dataTable) return;\n",
              "\n",
              "          const docLinkHtml = 'Like what you see? Visit the ' +\n",
              "            '<a target=\"_blank\" href=https://colab.research.google.com/notebooks/data_table.ipynb>data table notebook</a>'\n",
              "            + ' to learn more about interactive tables.';\n",
              "          element.innerHTML = '';\n",
              "          dataTable['output_type'] = 'display_data';\n",
              "          await google.colab.output.renderOutput(dataTable, element);\n",
              "          const docLink = document.createElement('div');\n",
              "          docLink.innerHTML = docLinkHtml;\n",
              "          element.appendChild(docLink);\n",
              "        }\n",
              "      </script>\n",
              "    </div>\n",
              "  </div>\n",
              "  "
            ]
          },
          "metadata": {},
          "execution_count": 124
        }
      ]
    },
    {
      "cell_type": "code",
      "source": [
        ""
      ],
      "metadata": {
        "id": "XYY8boGXL-38"
      },
      "execution_count": null,
      "outputs": []
    },
    {
      "cell_type": "markdown",
      "source": [
        "## Data Preparation"
      ],
      "metadata": {
        "id": "k179f-YjImMj"
      }
    },
    {
      "cell_type": "code",
      "execution_count": null,
      "metadata": {
        "id": "5_Z3nAROOTKf"
      },
      "outputs": [],
      "source": [
        "from pyspark.ml import Pipeline\n",
        "from pyspark.ml.feature import StringIndexer\n",
        "from pyspark.ml.feature import OneHotEncoder, VectorAssembler\n",
        "from pyspark.ml import Pipeline"
      ]
    },
    {
      "cell_type": "code",
      "source": [
        "categoricalColumns = ['gender','owns_car','owns_house','occupation_type','total_family_members', 'migrant_worker', 'prev_defaults', 'default_in_last_6months','no_of_children']\n",
        "stages = []\n",
        "for categoricalCol in categoricalColumns:\n",
        "    stringIndexer = StringIndexer(inputCol = categoricalCol, outputCol = categoricalCol + 'Index')\n",
        "    encoder = OneHotEncoder(inputCols=[stringIndexer.getOutputCol()], outputCols=[categoricalCol + \"classVec\"])\n",
        "    stages += [stringIndexer, encoder]"
      ],
      "metadata": {
        "id": "xeVbBZbd-gBC"
      },
      "execution_count": null,
      "outputs": []
    },
    {
      "cell_type": "code",
      "source": [
        "label_stringIdx = StringIndexer(inputCol = 'credit_card_default', outputCol = 'label')\n",
        "stages += [label_stringIdx]"
      ],
      "metadata": {
        "id": "ziFlCDEt-fzN"
      },
      "execution_count": null,
      "outputs": []
    },
    {
      "cell_type": "code",
      "source": [
        "numericCols = ['age', 'credit_limit_used(%)', 'default_in_last_6months','net_yearly_income','no_of_days_employed','yearly_debt_payments','credit_limit','credit_score']\n",
        "assemblerInputs = [c + \"classVec\" for c in categoricalColumns] + numericCols\n",
        "assembler = VectorAssembler(inputCols=assemblerInputs, outputCol=\"features\")\n",
        "stages += [assembler]"
      ],
      "metadata": {
        "id": "V1DyolpjA9g9"
      },
      "execution_count": null,
      "outputs": []
    },
    {
      "cell_type": "code",
      "source": [
        "from pyspark.ml import Pipeline\n",
        "pipeline = Pipeline(stages = stages)\n",
        "pipelineModel = pipeline.fit(df)\n",
        "df = pipelineModel.transform(df)\n",
        "selectedCols = ['label', 'features'] + cols\n",
        "df = df.select(selectedCols)\n",
        "df.printSchema()"
      ],
      "metadata": {
        "colab": {
          "base_uri": "https://localhost:8080/"
        },
        "id": "z-mmM-bZDE6p",
        "outputId": "8d4632f4-f44e-4c77-d369-e17e937d6dab"
      },
      "execution_count": null,
      "outputs": [
        {
          "output_type": "stream",
          "name": "stdout",
          "text": [
            "root\n",
            " |-- label: double (nullable = false)\n",
            " |-- features: vector (nullable = true)\n",
            " |-- age: integer (nullable = true)\n",
            " |-- gender: string (nullable = true)\n",
            " |-- owns_car: string (nullable = true)\n",
            " |-- owns_house: string (nullable = true)\n",
            " |-- no_of_children: double (nullable = true)\n",
            " |-- net_yearly_income: double (nullable = true)\n",
            " |-- no_of_days_employed: double (nullable = true)\n",
            " |-- occupation_type: string (nullable = true)\n",
            " |-- total_family_members: double (nullable = true)\n",
            " |-- migrant_worker: double (nullable = true)\n",
            " |-- yearly_debt_payments: double (nullable = true)\n",
            " |-- credit_limit: double (nullable = true)\n",
            " |-- credit_limit_used(%): integer (nullable = true)\n",
            " |-- credit_score: double (nullable = true)\n",
            " |-- prev_defaults: integer (nullable = true)\n",
            " |-- default_in_last_6months: integer (nullable = true)\n",
            " |-- credit_card_default: integer (nullable = true)\n",
            "\n"
          ]
        }
      ]
    },
    {
      "cell_type": "code",
      "source": [
        "cols = df.columns"
      ],
      "metadata": {
        "id": "-rc8NWp4GHhd"
      },
      "execution_count": null,
      "outputs": []
    },
    {
      "cell_type": "code",
      "source": [
        "df.dtypes"
      ],
      "metadata": {
        "colab": {
          "base_uri": "https://localhost:8080/"
        },
        "id": "u63hntGdDXwM",
        "outputId": "d02be051-b009-4056-f7d4-781c3984a20e"
      },
      "execution_count": null,
      "outputs": [
        {
          "output_type": "execute_result",
          "data": {
            "text/plain": [
              "[('age', 'int'),\n",
              " ('gender', 'string'),\n",
              " ('owns_car', 'string'),\n",
              " ('owns_house', 'string'),\n",
              " ('no_of_children', 'double'),\n",
              " ('net_yearly_income', 'double'),\n",
              " ('no_of_days_employed', 'double'),\n",
              " ('occupation_type', 'string'),\n",
              " ('total_family_members', 'double'),\n",
              " ('migrant_worker', 'double'),\n",
              " ('yearly_debt_payments', 'double'),\n",
              " ('credit_limit', 'double'),\n",
              " ('credit_limit_used(%)', 'int'),\n",
              " ('credit_score', 'double'),\n",
              " ('prev_defaults', 'int'),\n",
              " ('default_in_last_6months', 'int'),\n",
              " ('credit_card_default', 'int')]"
            ]
          },
          "metadata": {},
          "execution_count": 127
        }
      ]
    },
    {
      "cell_type": "code",
      "source": [
        "train, test = df.randomSplit([0.7,0.3])\n",
        "print(\"Training Dataset Count: \" + str(train.count()))\n",
        "print(\"Test Dataset Count: \" + str(test.count()))"
      ],
      "metadata": {
        "colab": {
          "base_uri": "https://localhost:8080/"
        },
        "id": "i-2bgjfyDE5C",
        "outputId": "da1d290d-7780-4375-e839-7ef826e57089"
      },
      "execution_count": null,
      "outputs": [
        {
          "output_type": "stream",
          "name": "stdout",
          "text": [
            "Training Dataset Count: 30453\n",
            "Test Dataset Count: 13056\n"
          ]
        }
      ]
    },
    {
      "cell_type": "markdown",
      "source": [
        "## Building a model"
      ],
      "metadata": {
        "id": "GIuwYzkKLT4r"
      }
    },
    {
      "cell_type": "markdown",
      "source": [
        "### Logistic Regression"
      ],
      "metadata": {
        "id": "wj4NvdzsIEGL"
      }
    },
    {
      "cell_type": "code",
      "source": [
        "from pyspark.ml.classification import LogisticRegression\n",
        "\n",
        "lr = LogisticRegression(featuresCol = 'features', labelCol = 'label', maxIter=10)\n",
        "lrModel = lr.fit(train)\n",
        "lr_predictions = lrModel.transform(test)"
      ],
      "metadata": {
        "id": "vp6YrTkmer-N"
      },
      "execution_count": null,
      "outputs": []
    },
    {
      "cell_type": "code",
      "source": [
        "from pyspark.ml.evaluation import MulticlassClassificationEvaluator\n",
        "\n",
        "multi_evaluator = MulticlassClassificationEvaluator(labelCol = 'label', metricName = 'accuracy')\n",
        "print('Logistic Regression Accuracy:', multi_evaluator.evaluate(lr_predictions))"
      ],
      "metadata": {
        "colab": {
          "base_uri": "https://localhost:8080/"
        },
        "id": "Ho1pxk6-e9H1",
        "outputId": "14c0cbb4-5dad-4a2f-f7f6-da169a7e9ceb"
      },
      "execution_count": null,
      "outputs": [
        {
          "output_type": "stream",
          "name": "stdout",
          "text": [
            "Logistic Regression Accuracy: 0.9803155637254902\n"
          ]
        }
      ]
    },
    {
      "cell_type": "code",
      "source": [
        "predictions = lrModel.transform(test)\n",
        "predictions.select('age','label','rawPrediction', 'prediction', 'probability').show(10)"
      ],
      "metadata": {
        "colab": {
          "base_uri": "https://localhost:8080/"
        },
        "id": "NQwshy717hoM",
        "outputId": "2e14a074-4ad1-4084-b31d-a3e92f872ec3"
      },
      "execution_count": null,
      "outputs": [
        {
          "output_type": "stream",
          "name": "stdout",
          "text": [
            "+---+-----+--------------------+----------+--------------------+\n",
            "|age|label|       rawPrediction|prediction|         probability|\n",
            "+---+-----+--------------------+----------+--------------------+\n",
            "| 23|  0.0|[11.9436792896960...|       0.0|[0.99999349985315...|\n",
            "| 23|  0.0|[12.3267822941192...|       0.0|[0.99999556856334...|\n",
            "| 23|  0.0|[15.0439964205396...|       0.0|[0.99999970726460...|\n",
            "| 23|  0.0|[15.0762205184342...|       0.0|[0.99999971654736...|\n",
            "| 23|  0.0|[12.5124913449120...|       0.0|[0.99999631962174...|\n",
            "| 23|  0.0|[10.8640282909817...|       0.0|[0.99998086607126...|\n",
            "| 23|  0.0|[16.3994576772896...|       0.0|[0.99999992452450...|\n",
            "| 23|  0.0|[13.0071376280162...|       0.0|[0.99999775575157...|\n",
            "| 23|  0.0|[7.06310424088713...|       0.0|[0.99914461593495...|\n",
            "| 23|  0.0|[16.9177808636187...|       0.0|[0.99999995505295...|\n",
            "+---+-----+--------------------+----------+--------------------+\n",
            "only showing top 10 rows\n",
            "\n"
          ]
        }
      ]
    },
    {
      "cell_type": "code",
      "source": [
        "from pyspark.ml.evaluation import BinaryClassificationEvaluator\n",
        "evaluator = BinaryClassificationEvaluator()\n",
        "print('Test Area Under ROC', evaluator.evaluate(predictions))"
      ],
      "metadata": {
        "colab": {
          "base_uri": "https://localhost:8080/"
        },
        "id": "HGh7lnjFHI9f",
        "outputId": "670c1c5b-aa78-4e28-98ba-05e6f9bb2d99"
      },
      "execution_count": null,
      "outputs": [
        {
          "output_type": "stream",
          "name": "stdout",
          "text": [
            "Test Area Under ROC 0.993551697708787\n"
          ]
        }
      ]
    },
    {
      "cell_type": "code",
      "source": [
        "import matplotlib.pyplot as plt\n",
        "import numpy as np\n",
        "\n",
        "beta = np.sort(lrModel.coefficients)\n",
        "plt.plot(beta)\n",
        "plt.ylabel('Beta Coefficients')\n",
        "plt.show()"
      ],
      "metadata": {
        "colab": {
          "base_uri": "https://localhost:8080/",
          "height": 268
        },
        "id": "QB7IXW30506y",
        "outputId": "7331bcfb-06b6-4f93-80d2-c6f5509824ab"
      },
      "execution_count": null,
      "outputs": [
        {
          "output_type": "display_data",
          "data": {
            "text/plain": [
              "<Figure size 432x288 with 1 Axes>"
            ],
            "image/png": "[encoded data removed]"
          },
          "metadata": {
            "needs_background": "light"
          }
        }
      ]
    },
    {
      "cell_type": "code",
      "source": [
        "trainingSummary = lrModel.summary\n",
        "roc = trainingSummary.roc.toPandas()\n",
        "plt.plot(roc['FPR'],roc['TPR'])\n",
        "plt.ylabel('False Positive Rate')\n",
        "plt.xlabel('True Positive Rate')\n",
        "plt.title('ROC Curve')\n",
        "plt.show()\n",
        "print('Training set areaUnderROC: ' + str(trainingSummary.areaUnderROC))"
      ],
      "metadata": {
        "colab": {
          "base_uri": "https://localhost:8080/",
          "height": 350
        },
        "id": "6TFwsZ0U3J9i",
        "outputId": "3ebbac14-9c02-4854-beaf-61a7bade6cdb"
      },
      "execution_count": null,
      "outputs": [
        {
          "output_type": "stream",
          "name": "stderr",
          "text": [
            "/usr/local/lib/python3.7/dist-packages/pyspark/sql/context.py:127: FutureWarning: Deprecated in 3.0.0. Use SparkSession.builder.getOrCreate() instead.\n",
            "  FutureWarning\n"
          ]
        },
        {
          "output_type": "display_data",
          "data": {
            "text/plain": [
              "<Figure size 432x288 with 1 Axes>"
            ],
            "image/png": "[encoded data removed]"
          },
          "metadata": {
            "needs_background": "light"
          }
        },
        {
          "output_type": "stream",
          "name": "stdout",
          "text": [
            "Training set areaUnderROC: 0.9934921654471327\n"
          ]
        }
      ]
    },
    {
      "cell_type": "code",
      "source": [
        "pr = trainingSummary.pr.toPandas()\n",
        "plt.plot(pr['recall'],pr['precision'])\n",
        "plt.ylabel('Precision')\n",
        "plt.xlabel('Recall')\n",
        "plt.show()"
      ],
      "metadata": {
        "colab": {
          "base_uri": "https://localhost:8080/",
          "height": 315
        },
        "id": "EejDlzSY3J7t",
        "outputId": "25a18d4e-fab2-471a-8970-d8f1e2c6724f"
      },
      "execution_count": null,
      "outputs": [
        {
          "output_type": "stream",
          "name": "stderr",
          "text": [
            "/usr/local/lib/python3.7/dist-packages/pyspark/sql/context.py:127: FutureWarning: Deprecated in 3.0.0. Use SparkSession.builder.getOrCreate() instead.\n",
            "  FutureWarning\n"
          ]
        },
        {
          "output_type": "display_data",
          "data": {
            "text/plain": [
              "<Figure size 432x288 with 1 Axes>"
            ],
            "image/png": "[encoded data removed]"
          },
          "metadata": {
            "needs_background": "light"
          }
        }
      ]
    },
    {
      "cell_type": "code",
      "source": [
        ""
      ],
      "metadata": {
        "id": "BHQYRgT_fm8x"
      },
      "execution_count": null,
      "outputs": []
    },
    {
      "cell_type": "markdown",
      "source": [
        "### Decision Tree Algorithm"
      ],
      "metadata": {
        "id": "GEQ3C7bLII7f"
      }
    },
    {
      "cell_type": "code",
      "source": [
        "from pyspark.ml.classification import DecisionTreeClassifier\n",
        "dt = DecisionTreeClassifier(featuresCol = 'features', labelCol = 'label', maxDepth = 3)\n",
        "dtModel = dt.fit(train)\n",
        "predictions = dtModel.transform(test)\n",
        "predictions.select('age','label', 'rawPrediction', 'prediction', 'probability').show(10)"
      ],
      "metadata": {
        "colab": {
          "base_uri": "https://localhost:8080/"
        },
        "id": "UxBUop_i9J2j",
        "outputId": "ae708876-7c21-4588-96ef-24df88c88884"
      },
      "execution_count": null,
      "outputs": [
        {
          "output_type": "stream",
          "name": "stdout",
          "text": [
            "+---+-----+---------------+----------+--------------------+\n",
            "|age|label|  rawPrediction|prediction|         probability|\n",
            "+---+-----+---------------+----------+--------------------+\n",
            "| 23|  0.0|[28007.0,605.0]|       0.0|[0.97885502586327...|\n",
            "| 23|  0.0|[28007.0,605.0]|       0.0|[0.97885502586327...|\n",
            "| 23|  0.0|[28007.0,605.0]|       0.0|[0.97885502586327...|\n",
            "| 23|  0.0|[28007.0,605.0]|       0.0|[0.97885502586327...|\n",
            "| 23|  0.0|[28007.0,605.0]|       0.0|[0.97885502586327...|\n",
            "| 23|  0.0|[28007.0,605.0]|       0.0|[0.97885502586327...|\n",
            "| 23|  0.0|[28007.0,605.0]|       0.0|[0.97885502586327...|\n",
            "| 23|  0.0|[28007.0,605.0]|       0.0|[0.97885502586327...|\n",
            "| 23|  0.0|[28007.0,605.0]|       0.0|[0.97885502586327...|\n",
            "| 23|  0.0|[28007.0,605.0]|       0.0|[0.97885502586327...|\n",
            "+---+-----+---------------+----------+--------------------+\n",
            "only showing top 10 rows\n",
            "\n"
          ]
        }
      ]
    },
    {
      "cell_type": "code",
      "source": [
        "from pyspark.ml.evaluation import MulticlassClassificationEvaluator\n",
        "\n",
        "multi_evaluator = MulticlassClassificationEvaluator(labelCol = 'label', metricName = 'accuracy')\n",
        "print('Decision Tree Accuracy:', multi_evaluator.evaluate(predictions))"
      ],
      "metadata": {
        "colab": {
          "base_uri": "https://localhost:8080/"
        },
        "id": "LqH6aBghKovr",
        "outputId": "cd25913f-a2c2-4066-ba71-ebb22297452b"
      },
      "execution_count": null,
      "outputs": [
        {
          "output_type": "stream",
          "name": "stdout",
          "text": [
            "Decision Tree Accuracy: 0.9813878676470589\n"
          ]
        }
      ]
    },
    {
      "cell_type": "code",
      "source": [
        "evaluator = BinaryClassificationEvaluator()\n",
        "print(\"Test Area Under ROC: \" + str(evaluator.evaluate(predictions, {evaluator.metricName: \"areaUnderROC\"})))"
      ],
      "metadata": {
        "colab": {
          "base_uri": "https://localhost:8080/"
        },
        "id": "EM_S_hpxj1o9",
        "outputId": "8ff76c9c-45be-4778-9f81-a163899dea37"
      },
      "execution_count": null,
      "outputs": [
        {
          "output_type": "stream",
          "name": "stdout",
          "text": [
            "Test Area Under ROC: 0.8880184331797235\n"
          ]
        }
      ]
    },
    {
      "cell_type": "code",
      "source": [
        ""
      ],
      "metadata": {
        "id": "6TO3tDIvHd7j"
      },
      "execution_count": null,
      "outputs": []
    },
    {
      "cell_type": "markdown",
      "source": [
        "### Random Forest Algorithm"
      ],
      "metadata": {
        "id": "YD9UIqmeINGX"
      }
    },
    {
      "cell_type": "code",
      "source": [
        "from pyspark.ml.classification import RandomForestClassifier\n",
        "rf = RandomForestClassifier(featuresCol = 'features', labelCol = 'label')\n",
        "rfModel = rf.fit(train)\n",
        "predictions = rfModel.transform(test)\n",
        "predictions.select('age', 'label', 'rawPrediction', 'prediction', 'probability').show(10)"
      ],
      "metadata": {
        "colab": {
          "base_uri": "https://localhost:8080/"
        },
        "id": "37D4iHGtHVKx",
        "outputId": "8cd49e85-c8cf-4412-d598-00c9084aafb8"
      },
      "execution_count": null,
      "outputs": [
        {
          "output_type": "stream",
          "name": "stdout",
          "text": [
            "+---+-----+--------------------+----------+--------------------+\n",
            "|age|label|       rawPrediction|prediction|         probability|\n",
            "+---+-----+--------------------+----------+--------------------+\n",
            "| 23|  0.0|[19.5875790442663...|       0.0|[0.97937895221331...|\n",
            "| 23|  0.0|[19.5140209688238...|       0.0|[0.97570104844119...|\n",
            "| 23|  0.0|[19.6858084338143...|       0.0|[0.98429042169071...|\n",
            "| 23|  0.0|[19.6134326093641...|       0.0|[0.98067163046820...|\n",
            "| 23|  0.0|[19.6106587110083...|       0.0|[0.98053293555041...|\n",
            "| 23|  0.0|[19.5056639960183...|       0.0|[0.97528319980091...|\n",
            "| 23|  0.0|[19.6806610494194...|       0.0|[0.98403305247097...|\n",
            "| 23|  0.0|[19.6134326093641...|       0.0|[0.98067163046820...|\n",
            "| 23|  0.0|[19.6134326093641...|       0.0|[0.98067163046820...|\n",
            "| 23|  0.0|[19.5140209688238...|       0.0|[0.97570104844119...|\n",
            "+---+-----+--------------------+----------+--------------------+\n",
            "only showing top 10 rows\n",
            "\n"
          ]
        }
      ]
    },
    {
      "cell_type": "code",
      "source": [
        "from pyspark.ml.evaluation import MulticlassClassificationEvaluator\n",
        "\n",
        "multi_evaluator = MulticlassClassificationEvaluator(labelCol = 'label', metricName = 'accuracy')\n",
        "print('Random Forest Accuracy:', multi_evaluator.evaluate(predictions))"
      ],
      "metadata": {
        "colab": {
          "base_uri": "https://localhost:8080/"
        },
        "id": "IlY6aj3LK7ln",
        "outputId": "cc21105b-4bb8-477c-a2e6-7813fc526a55"
      },
      "execution_count": null,
      "outputs": [
        {
          "output_type": "stream",
          "name": "stdout",
          "text": [
            "Random Forest Accuracy: 0.9800091911764706\n"
          ]
        }
      ]
    },
    {
      "cell_type": "code",
      "source": [
        "evaluator = BinaryClassificationEvaluator()\n",
        "print(\"Test Area Under ROC: \" + str(evaluator.evaluate(predictions, {evaluator.metricName: \"areaUnderROC\"})))"
      ],
      "metadata": {
        "colab": {
          "base_uri": "https://localhost:8080/"
        },
        "id": "rBYhOSxyHp8O",
        "outputId": "66092c45-0205-4d73-c936-8786d922010e"
      },
      "execution_count": null,
      "outputs": [
        {
          "output_type": "stream",
          "name": "stdout",
          "text": [
            "Test Area Under ROC: 0.9934335550545151\n"
          ]
        }
      ]
    },
    {
      "cell_type": "code",
      "source": [
        ""
      ],
      "metadata": {
        "id": "30247UWuHuEY"
      },
      "execution_count": null,
      "outputs": []
    },
    {
      "cell_type": "markdown",
      "source": [
        "### Gradient Boosting Algorithm"
      ],
      "metadata": {
        "id": "aFQdekUdIRfD"
      }
    },
    {
      "cell_type": "code",
      "source": [
        "from pyspark.ml.classification import GBTClassifier\n",
        "gbt = GBTClassifier(maxIter=10)\n",
        "gbtModel = gbt.fit(train)\n",
        "predictions = gbtModel.transform(test)\n",
        "predictions.select('age', 'label', 'rawPrediction', 'prediction', 'probability').show(10)"
      ],
      "metadata": {
        "colab": {
          "base_uri": "https://localhost:8080/"
        },
        "id": "I1BF43ibHuw5",
        "outputId": "995c0ac7-4dfa-40b8-9b67-15f2a82bedd5"
      },
      "execution_count": null,
      "outputs": [
        {
          "output_type": "stream",
          "name": "stdout",
          "text": [
            "+---+-----+--------------------+----------+--------------------+\n",
            "|age|label|       rawPrediction|prediction|         probability|\n",
            "+---+-----+--------------------+----------+--------------------+\n",
            "| 23|  0.0|[1.32590267922038...|       0.0|[0.93412217565278...|\n",
            "| 23|  0.0|[1.32590267922038...|       0.0|[0.93412217565278...|\n",
            "| 23|  0.0|[1.32590267922038...|       0.0|[0.93412217565278...|\n",
            "| 23|  0.0|[1.32590267922038...|       0.0|[0.93412217565278...|\n",
            "| 23|  0.0|[1.32590267922038...|       0.0|[0.93412217565278...|\n",
            "| 23|  0.0|[1.32590267922038...|       0.0|[0.93412217565278...|\n",
            "| 23|  0.0|[1.32590267922038...|       0.0|[0.93412217565278...|\n",
            "| 23|  0.0|[1.32590267922038...|       0.0|[0.93412217565278...|\n",
            "| 23|  0.0|[1.32590702962262...|       0.0|[0.93412271108032...|\n",
            "| 23|  0.0|[1.32590267922038...|       0.0|[0.93412217565278...|\n",
            "+---+-----+--------------------+----------+--------------------+\n",
            "only showing top 10 rows\n",
            "\n"
          ]
        }
      ]
    },
    {
      "cell_type": "code",
      "source": [
        "from pyspark.ml.evaluation import MulticlassClassificationEvaluator\n",
        "\n",
        "multi_evaluator = MulticlassClassificationEvaluator(labelCol = 'label', metricName = 'accuracy')\n",
        "print('Gradient Boosting Accuracy:', multi_evaluator.evaluate(predictions))"
      ],
      "metadata": {
        "colab": {
          "base_uri": "https://localhost:8080/"
        },
        "id": "L89NLF0QLEWO",
        "outputId": "0fbded35-327a-42a1-d805-0d6df5d8365c"
      },
      "execution_count": null,
      "outputs": [
        {
          "output_type": "stream",
          "name": "stdout",
          "text": [
            "Gradient Boosting Accuracy: 0.9809283088235294\n"
          ]
        }
      ]
    },
    {
      "cell_type": "code",
      "source": [
        "evaluator = BinaryClassificationEvaluator()\n",
        "print(\"Test Area Under ROC: \" + str(evaluator.evaluate(predictions, {evaluator.metricName: \"areaUnderROC\"})))"
      ],
      "metadata": {
        "colab": {
          "base_uri": "https://localhost:8080/"
        },
        "id": "1oMtMbq3Hyb7",
        "outputId": "fe60cab3-b53f-4386-a346-11e0f9cf8dcd"
      },
      "execution_count": null,
      "outputs": [
        {
          "output_type": "stream",
          "name": "stdout",
          "text": [
            "Test Area Under ROC: 0.9953896263127442\n"
          ]
        }
      ]
    },
    {
      "cell_type": "code",
      "source": [
        ""
      ],
      "metadata": {
        "id": "jTxEESk5LUBY"
      },
      "execution_count": null,
      "outputs": []
    },
    {
      "cell_type": "markdown",
      "source": [
        "Here, the Gradient-Boosted Tree achieved the best results"
      ],
      "metadata": {
        "id": "9DYj7KcYLaGb"
      }
    },
    {
      "cell_type": "markdown",
      "source": [
        "## Final prediction / Hyper tuning the model"
      ],
      "metadata": {
        "id": "x7Qben03LVe9"
      }
    },
    {
      "cell_type": "code",
      "source": [
        "from pyspark.ml.tuning import ParamGridBuilder, CrossValidator\n",
        "\n",
        "paramGrid = (ParamGridBuilder()\n",
        "             .addGrid(gbt.maxDepth, [2, 4, 6])\n",
        "             .addGrid(gbt.maxBins, [20, 60])\n",
        "             .addGrid(gbt.maxIter, [10, 20])\n",
        "             .build())\n",
        "\n",
        "cv = CrossValidator(estimator=gbt, estimatorParamMaps=paramGrid, evaluator=evaluator, numFolds=5)\n",
        "\n",
        "# Running cross validations.  This can take about 6 minutes since it is training over 20 trees!\n",
        "cvModel = cv.fit(train)\n",
        "predictions = cvModel.transform(test)\n",
        "evaluator.evaluate(predictions)"
      ],
      "metadata": {
        "colab": {
          "base_uri": "https://localhost:8080/"
        },
        "id": "dhRB2nhLH5t7",
        "outputId": "1f4cb051-984c-43b1-dda7-d03105d6aa66"
      },
      "execution_count": null,
      "outputs": [
        {
          "output_type": "execute_result",
          "data": {
            "text/plain": [
              "0.9951418308531331"
            ]
          },
          "metadata": {},
          "execution_count": 176
        }
      ]
    },
    {
      "cell_type": "code",
      "source": [
        ""
      ],
      "metadata": {
        "id": "bhXcdC-1IA2j"
      },
      "execution_count": null,
      "outputs": []
    }
  ],
  "metadata": {
    "accelerator": "GPU",
    "colab": {
      "name": "BD_Project_model.ipynb",
      "provenance": [],
      "collapsed_sections": []
    },
    "kernelspec": {
      "display_name": "Python 3",
      "name": "python3"
    },
    "language_info": {
      "name": "python"
    }
  },
  "nbformat": 4,
  "nbformat_minor": 0
}